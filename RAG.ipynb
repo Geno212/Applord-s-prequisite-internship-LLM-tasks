{
 "cells": [
  {
   "cell_type": "code",
   "execution_count": 1,
   "id": "5793caee-01d6-46ae-bacd-6f78ce279667",
   "metadata": {},
   "outputs": [
    {
     "name": "stdout",
     "output_type": "stream",
     "text": [
      "Collecting pytesseract\n",
      "  Downloading pytesseract-0.3.10-py3-none-any.whl.metadata (11 kB)\n",
      "Requirement already satisfied: packaging>=21.3 in c:\\programdata\\anaconda3\\lib\\site-packages (from pytesseract) (23.2)\n",
      "Requirement already satisfied: Pillow>=8.0.0 in c:\\programdata\\anaconda3\\lib\\site-packages (from pytesseract) (10.3.0)\n",
      "Downloading pytesseract-0.3.10-py3-none-any.whl (14 kB)\n",
      "Installing collected packages: pytesseract\n",
      "Successfully installed pytesseract-0.3.10\n",
      "Note: you may need to restart the kernel to use updated packages.\n"
     ]
    }
   ],
   "source": [
    "pip install pytesseract\n"
   ]
  },
  {
   "cell_type": "code",
   "execution_count": 3,
   "id": "d6c33f52-8086-4d34-877b-10d1f60dffd4",
   "metadata": {},
   "outputs": [
    {
     "name": "stdout",
     "output_type": "stream",
     "text": [
      "Paragraph on\n",
      "Artificial Intelligence\n",
      "\n",
      "Artificial Intelligence is a new technology in\n",
      "the field of computer science. “Artificial”\n",
      "means man-made that is not natural and\n",
      "“Intelligence” refers to the ability to think\n",
      "and make decisions. The concept of A.I. was\n",
      "introduced back in 1950. Alan Turing, a\n",
      "mathematician and computer scientist\n",
      "designed a machine named as “Turing\n",
      "Machine”. This machine can test whether\n",
      "the computers can make decisions or not.\n",
      "John McCarthy, a computer scientist has\n",
      "introduced the word “Artificial Intelligence”\n",
      "\n",
      "in the world of computer science.\n",
      "© TeachingBanyan.com\n",
      "\n",
      "\n"
     ]
    }
   ],
   "source": [
    "import pytesseract\n",
    "from PIL import Image\n",
    "\n",
    "\n",
    "pytesseract.pytesseract.tesseract_cmd = r\"C:\\Program Files\\Tesseract-OCR\\tesseract.exe\"\n",
    "\n",
    "\n",
    "\n",
    "image = Image.open(r\"C:\\Users\\acer\\Downloads\\testing tesseract.jpeg\")\n",
    "\n",
    "\n",
    "text = pytesseract.image_to_string(image)\n",
    "\n",
    "\n",
    "print(text)\n"
   ]
  },
  {
   "cell_type": "code",
   "execution_count": 7,
   "id": "ae328d87-b269-4f11-a7b2-ad7564f40f17",
   "metadata": {},
   "outputs": [
    {
     "name": "stdout",
     "output_type": "stream",
     "text": [
      "Technology- Higher German\n",
      "\n",
      "In diesem Aufsatz werde ich über neue\n",
      "Technologien und soziale Netzwerke schreiben.\n",
      "Da es sowohl Vorteile als auch Nachteile in\n",
      "Bezug auf neue Technologien und soziale\n",
      "Netzwerke gibt, werde ich im Folgenden\n",
      "Argumente für und gegen neue Technologien\n",
      "\n",
      "erwähnen.\n",
      "\n",
      "Zuerst werde ich etwas über Handys schreiben. Persönlich besitze i\n",
      "Smartphone, welches von der Marke Huawei ist. Ein Handy ist hauptsä\n",
      "benutzt, um im Internet zu surfen. Ich denke, dass ich zu viel Zeit am\n",
      "verbringe, denn ich bin durchschnittlich sechs Stunden am Tag damit besch\n",
      "Ich besuche gerne Videoplattformen, zB. YouTube, um Musik zu hörer\n",
      "lustige Videos anzuschauen. Viele Leute nutzen ihr Handy jeden Tag ur\n",
      "Internet wird folglich immer mehr wichtig.\n",
      "\n"
     ]
    }
   ],
   "source": [
    "\n",
    "image = Image.open(r\"C:\\Users\\acer\\Downloads\\german essay.jpg\")\n",
    "\n",
    "\n",
    "text = pytesseract.image_to_string(image, lang='deu')\n",
    "\n",
    "\n",
    "print(text)"
   ]
  },
  {
   "cell_type": "code",
   "execution_count": 28,
   "id": "abdd2774-9afb-4490-96d2-f652bb6b7d66",
   "metadata": {},
   "outputs": [
    {
     "name": "stdout",
     "output_type": "stream",
     "text": [
      "Extracted Text: Paragraph on\n",
      "Artificial Intelligence\n",
      "\n",
      "Artificial Intelligence is a new technology in\n",
      "the field of computer science. “Artificial”\n",
      "means man-made that is not natural and\n",
      "“Intelligence” refers to the ability to think\n",
      "and make decisions. The concept of A.I. was\n",
      "introduced back in 1950. Alan Turing, a\n",
      "mathematician and computer scientist\n",
      "designed a machine named as “Turing\n",
      "Machine”. This machine can test whether\n",
      "the computers can make decisions or not.\n",
      "John McCarthy, a computer scientist has\n",
      "introduced the word “Artificial Intelligence”\n",
      "\n",
      "in the world of computer science.\n",
      "© TeachingBanyan.com\n",
      "\n",
      "\n",
      "Reference Text: Paragraph on\n",
      "Artificial Intelligence\n",
      "\n",
      "Artificial Intelligence is a new technology in\n",
      "the field of computer science. “Artificial”\n",
      "means man-made that is not natural and\n",
      "“Intelligence” refers to the ability to think\n",
      "and make decisions. The concept of A.I. was\n",
      "introduced back in 1950. Alan Turing, a\n",
      "mathematician and computer scientist\n",
      "designed a machine named as “Turing\n",
      "Machine”. This machine can test whether\n",
      "the computers can make decisions or not.\n",
      "John McCarthy, an architect made this dream come true later after these years in the world of architecture.\n",
      "© TeachingBanyan.com\n",
      "Word-Level Accuracy: 0.82\n"
     ]
    }
   ],
   "source": [
    "!python Documents\\word_accuracy.py \"C:\\Users\\acer\\Downloads\\testing tesseract.jpeg\" \"C:\\Users\\acer\\Downloads\\exampleRef.txt\""
   ]
  },
  {
   "cell_type": "markdown",
   "id": "892b9bd9-d2af-4cd4-928d-db41a8767344",
   "metadata": {},
   "source": [
    "here(excluding punctuation) there are 74 correct words and I changed the reference .txt file so only 74 words are correct out of total 90 words, so 74/90 ~= 0.82 which is exactly what the metric calculated here."
   ]
  },
  {
   "cell_type": "code",
   "execution_count": 31,
   "id": "635ae4f1-8f79-428c-85e5-d853af8583fc",
   "metadata": {},
   "outputs": [
    {
     "name": "stdout",
     "output_type": "stream",
     "text": [
      "Extracted Text: ‘Technology- Higher German\n",
      "\n",
      "In diesem Aufsatz werde ich iiber neve\n",
      "Technologien und soziale Netzwerke schreiben.\n",
      "Da es sowohl Vorteile als auch Nachteile in\n",
      "Bezug auf neue Technologien und soziale\n",
      "Netzwerke gibt, werde ich im Folgenden\n",
      "‘Argumente fiir und gegen neue Technologien\n",
      "\n",
      "‘erwahnen,\n",
      "\n",
      "Zuerst werde ich etwas iiber Handys schreiben. Persénlich besitze i\n",
      "‘Smartphone, welches von der Marke Huawei ist, Ein Handy ist hauptsé\n",
      "benutzt, um im Internet zu surfen, Ich denke, dass ich 2u viel Zeit am\n",
      "verbringe, denn ich bin durchschnittlich sechs Stunden am Tag damit besch\n",
      "Ich besuche gerne Videoplattformen, 78. YouTube, um Musik zu hérer\n",
      "lustige Videos anzuschauen. Viele Leute nutzen ihr Handy jeden Tag un\n",
      "Internet wird folglich immer mehr wichtig.\n",
      "\n",
      "Reference Text: Technology- Higher German\n",
      "\n",
      "In diesem Aufsatz werde ich über neue\n",
      "Technologien und soziale Netzwerke schreiben.\n",
      "Da es sowohl Vorteile als auch Nachteile in\n",
      "Bezug auf neue Technologien und soziale\n",
      "Netzwerke gibt, werde ich im Folgenden\n",
      "Argumente für und gegen neue Technologien\n",
      "\n",
      "erwähnen.\n",
      "\n",
      "Zuerst werde ich etwas über Handys schreiben. Persönlich besitze i\n",
      "Smartphone, welches von der Marke Huawei ist. Ein Handy ist hauptsä\n",
      "benutzt, um im Internet zu surfen. Ich denke, dass ich zu viel Zeit am\n",
      "verbringe, denn ich bin durchschnittlich sechs Stunden am Tag damit besch\n",
      "Ich besuche gerne Videoplattformen, zB. YouTube, um Musik zu hörer\n",
      "lustige Videos anzuschauen. Viele Leute nutzen ihr Handy jeden Tag ur\n",
      "Internet wird folglich immer mehr wichtig.\n",
      "Word-Level Accuracy: 0.91\n"
     ]
    }
   ],
   "source": [
    "!python Documents\\word_accuracy.py \"C:\\Users\\acer\\Downloads\\german essay.jpg\" \"C:\\Users\\acer\\Downloads\\exampleRef.txt\""
   ]
  },
  {
   "cell_type": "markdown",
   "id": "299999e2-8557-4bd3-a9fa-bc8ada0c5d7b",
   "metadata": {},
   "source": [
    "Here the language parameter is not set to german so the text is not extracted correctly and the accuracy is not 1.00"
   ]
  },
  {
   "cell_type": "code",
   "execution_count": 40,
   "id": "9d1df370-0eab-4bef-aabb-96603bb1c68e",
   "metadata": {},
   "outputs": [
    {
     "name": "stdout",
     "output_type": "stream",
     "text": [
      "Extracted Text: Technology- Higher German\n",
      "In diesem Aufsatz werde ich über neue\n",
      "Technologien und soziale Netzwerke schreiben. SE\n",
      "Da es sowohl Vorteile als auch Nachteile in [@ her 77,\n",
      "Bezug auf neue Technologien und soziale # iM 41 >\n",
      "Netzwerke gibt, werde ich im Folgenden c\n",
      "Argumente für und gegen neue Technologien\n",
      "erwähnen,\n",
      "Zuerst werde ich etwas über Handys schreiben. Persönlich besitze i\n",
      "Smartphone, welches von der Marke Huawei ist. Ein Handy ist hauptsä\n",
      "benutzt, um im Internet zu surfen. Ich denke, dass ich zu viel Zeit am\n",
      "verbringe, denn ich bin durchschnittlich sechs Stunden am Tag damit besch\n",
      "Ich besuche gerne Videoplattformen, zB. YouTube, um Musik zu hörer\n",
      "lustige Videos anzuschauen. Viele Leute nutzen ihr Handy jeden Tag ur\n",
      "Internet wird folglich immer mehr wichtig.\n",
      "\n",
      "Reference Text: Technology- Higher German\n",
      "\n",
      "In diesem Aufsatz werde ich über neue\n",
      "Technologien und soziale Netzwerke schreiben.\n",
      "Da es sowohl Vorteile als auch Nachteile in\n",
      "Bezug auf neue Technologien und soziale\n",
      "Netzwerke gibt, werde ich im Folgenden\n",
      "Argumente für und gegen neue Technologien\n",
      "\n",
      "erwähnen.\n",
      "\n",
      "Zuerst werde ich etwas über Handys schreiben. Persönlich besitze i\n",
      "Smartphone, welches von der Marke Huawei ist. Ein Handy ist hauptsä\n",
      "benutzt, um im Internet zu surfen. Ich denke, dass ich zu viel Zeit am\n",
      "verbringe, denn ich bin durchschnittlich sechs Stunden am Tag damit besch\n",
      "Ich besuche gerne Videoplattformen, zB. YouTube, um Musik zu hörer\n",
      "lustige Videos anzuschauen. Viele Leute nutzen ihr Handy jeden Tag ur\n",
      "Internet wird folglich immer mehr wichtig.\n",
      "Word-Level Accuracy: 1.00\n"
     ]
    }
   ],
   "source": [
    "!python Documents\\word_accuracy.py \"C:\\Users\\acer\\Downloads\\german essay.jpg\" \"C:\\Users\\acer\\Downloads\\exampleRef.txt\""
   ]
  },
  {
   "cell_type": "markdown",
   "id": "d6d48eca-d5b3-43cc-95bf-401b66c0da0d",
   "metadata": {},
   "source": [
    "Here as we see the accuracy is 1.00 because the lang was set to german and all of the words exactly match the reference but we find unrecognizable text { [@ her 77, # iM 41 > } but that's because the psm parameter was set to 6 so the tool expects only single uniform block of text but there is an image (in the place where the unrecognizable text appears) inside the passed image (that explains this weird generated text). "
   ]
  },
  {
   "cell_type": "code",
   "execution_count": 43,
   "id": "dd4cbdb8-fe77-4b00-9c72-117a74ca1ba0",
   "metadata": {},
   "outputs": [
    {
     "name": "stdout",
     "output_type": "stream",
     "text": [
      "Extracted Text: Technology- Higher German\n",
      "\n",
      "In diesem Aufsatz werde ich über neue\n",
      "Technologien und soziale Netzwerke schreiben.\n",
      "Da es sowohl Vorteile als auch Nachteile in\n",
      "Bezug auf neue Technologien und soziale\n",
      "Netzwerke gibt, werde ich im Folgenden\n",
      "Argumente für und gegen neue Technologien\n",
      "\n",
      "erwähnen.\n",
      "\n",
      "Zuerst werde ich etwas über Handys schreiben. Persönlich besitze i\n",
      "Smartphone, welches von der Marke Huawei ist. Ein Handy ist hauptsä\n",
      "benutzt, um im Internet zu surfen. Ich denke, dass ich zu viel Zeit am\n",
      "verbringe, denn ich bin durchschnittlich sechs Stunden am Tag damit besch\n",
      "Ich besuche gerne Videoplattformen, zB. YouTube, um Musik zu hörer\n",
      "lustige Videos anzuschauen. Viele Leute nutzen ihr Handy jeden Tag ur\n",
      "Internet wird folglich immer mehr wichtig.\n",
      "\n",
      "Reference Text: Technology- Higher German\n",
      "\n",
      "In diesem Aufsatz werde ich über neue\n",
      "Technologien und soziale Netzwerke schreiben.\n",
      "Da es sowohl Vorteile als auch Nachteile in\n",
      "Bezug auf neue Technologien und soziale\n",
      "Netzwerke gibt, werde ich im Folgenden\n",
      "Argumente für und gegen neue Technologien\n",
      "\n",
      "erwähnen.\n",
      "\n",
      "Zuerst werde ich etwas über Handys schreiben. Persönlich besitze i\n",
      "Smartphone, welches von der Marke Huawei ist. Ein Handy ist hauptsä\n",
      "benutzt, um im Internet zu surfen. Ich denke, dass ich zu viel Zeit am\n",
      "verbringe, denn ich bin durchschnittlich sechs Stunden am Tag damit besch\n",
      "Ich besuche gerne Videoplattformen, zB. YouTube, um Musik zu hörer\n",
      "lustige Videos anzuschauen. Viele Leute nutzen ihr Handy jeden Tag ur\n",
      "Internet wird folglich immer mehr wichtig.\n",
      "Word-Level Accuracy: 1.00\n"
     ]
    }
   ],
   "source": [
    "!python Documents\\word_accuracy.py \"C:\\Users\\acer\\Downloads\\german essay.jpg\" \"C:\\Users\\acer\\Downloads\\exampleRef.txt\""
   ]
  },
  {
   "cell_type": "markdown",
   "id": "7f27a101-f774-43a1-84b3-057daaeeda5e",
   "metadata": {},
   "source": [
    "Here the psm parameter was auto set so it handled and ignored the image and no unrecognizable text was generated"
   ]
  },
  {
   "cell_type": "code",
   "execution_count": null,
   "id": "45c29bb4-7dee-4b1c-8f78-4739f9f0dae2",
   "metadata": {},
   "outputs": [],
   "source": []
  }
 ],
 "metadata": {
  "kernelspec": {
   "display_name": "Python 3 (ipykernel)",
   "language": "python",
   "name": "python3"
  },
  "language_info": {
   "codemirror_mode": {
    "name": "ipython",
    "version": 3
   },
   "file_extension": ".py",
   "mimetype": "text/x-python",
   "name": "python",
   "nbconvert_exporter": "python",
   "pygments_lexer": "ipython3",
   "version": "3.12.3"
  }
 },
 "nbformat": 4,
 "nbformat_minor": 5
}
